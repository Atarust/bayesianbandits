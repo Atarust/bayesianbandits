{
 "cells": [
  {
   "attachments": {},
   "cell_type": "markdown",
   "metadata": {},
   "source": [
    "# Thompson Sampling and the Bernoulli Bandit\n",
    "\n",
    "Let's explore Thompson sampling as a simple strategy for balancing exploration and exploitation in a (sort of) real-world setting. We'll do this in the simple situation of the two-armed Bernoulli bandit.\n",
    "\n",
    "### Problem Statement\n",
    "\n",
    "Imagine we are trying to compare some proposed process with our current status quo. For example, maybe we're trying to determine if a new e-mail newsletter layout drives click-throughs to our website more often than the layout we're currently using. This problem is an example of a two-armed bandit - we have a choice between two \"arms\" and we want to discover and select the arm that has the maximum reward. More to the point, we want to balance exploration (determining which arm is the best) and exploitation (pulling the arm that we believe is best) to maximize cumulative payoff. \n",
    "\n",
    "After taking each action, we receive a binary reward with the form $\\textrm{Reward}_k \\sim \\textrm{Bernoulli}(\\theta _k)$. This is a simple situation to simulate and does reasonably well approximate many real-world bandit problems, where the only two measurable outcomes are success or failure. \n",
    "\n",
    "### Simulating the Problem\n",
    "\n",
    "In order to somewhat approximate reality, let's create a blackbox `EmailOracle` class that represents the information we get about each email view after we send it. Practically speaking, this may be information that lives in analytics database that we need to query, but in this case we'll have it print either `T` or `F` to console, where `T` represents an email view that converted to a click-through. \n",
    "\n",
    "We'll intentionally set it up such that the new action has a small but real lift over the status quo, so ideally our online learning algorithm can identify it as the better option."
   ]
  },
  {
   "cell_type": "code",
   "execution_count": 1,
   "metadata": {},
   "outputs": [],
   "source": [
    "import numpy as np\n",
    "\n",
    "class EmailOracle:\n",
    "    def __init__(self, a, b):\n",
    "        self.a = a\n",
    "        self.b = b\n",
    "\n",
    "    def status_quo_action(self):\n",
    "        print([\"F\", \"T\"][np.random.binomial(1, self.a)])\n",
    "\n",
    "    def new_proposed_action(self):\n",
    "        print([\"F\", \"T\"][np.random.binomial(1, self.b)])\n",
    "\n",
    "\n",
    "two_armed_bandit = EmailOracle(0.05, 0.08)\n"
   ]
  },
  {
   "attachments": {},
   "cell_type": "markdown",
   "metadata": {},
   "source": [
    "### Setting up the learning agent\n",
    "\n",
    "Next, we can use the `bayesianbandits` library to set up a learning agent. First, let's define a learner that will accumulate our best knowledge regarding each arm. Because this is a Bernoulli bandit, we'll use a Dirichlet (multivariate beta) classifier. Because the Dirichlet distribution is the conjugate prior to the Binomial and Multinomial distributions, it will be simple to compute an analytical Bayesian update after each arm pull.\n",
    "\n",
    "In regards to priors, we'll choose an uninformative $\\textrm{Dirichlet}(0.5, 0.5)$ prior, which essentially encodes that we believe either email may be better, but we have no idea how good either will be. "
   ]
  },
  {
   "cell_type": "code",
   "execution_count": 2,
   "metadata": {},
   "outputs": [],
   "source": [
    "from bayesianbandits import DirichletClassifier\n",
    "\n",
    "clf = DirichletClassifier(alphas={\"T\": 0.5, \"F\": 0.5})\n",
    "\n"
   ]
  },
  {
   "attachments": {},
   "cell_type": "markdown",
   "metadata": {},
   "source": [
    "\n",
    "Next, we need to define functions that represent the action space and function(s) to compute reward. Because we consider an output of `T` a success and an output of `F` a failure, we'll have our reward function return the value of the `T` column of our `clf.classes_` array. "
   ]
  },
  {
   "cell_type": "code",
   "execution_count": 3,
   "metadata": {},
   "outputs": [],
   "source": [
    "def status_quo():\n",
    "    two_armed_bandit.status_quo_action()\n",
    "\n",
    "def new_proposal():\n",
    "    two_armed_bandit.new_proposed_action()\n",
    "\n",
    "def reward_func(x):\n",
    "    return x[..., 0]\n"
   ]
  },
  {
   "attachments": {},
   "cell_type": "markdown",
   "metadata": {},
   "source": [
    "Now we can define our learning agent. To do so, we will need two decorators from the `bayesianbandits` library - `@bandit` and `@contextfree`. The `@bandit` decorator synthesizes the bandit API on our experiment class, while `@contextfree` signals that our online learning problem will not have any context, or `X` values. \n",
    "\n",
    "The `@bandit` takes two arguments, the `learner` which defines how each arm will learn how rewarding its action is, and `policy`, which determines how the agent chooses which arm to pull. In this case, we'll use `thomspon_sampling`, which takes no parameters."
   ]
  },
  {
   "cell_type": "code",
   "execution_count": 4,
   "metadata": {},
   "outputs": [],
   "source": [
    "from bayesianbandits import (\n",
    "    contextfree,\n",
    "    bandit,\n",
    "    thompson_sampling,\n",
    "    Arm,\n",
    ")\n",
    "\n",
    "\n",
    "@contextfree\n",
    "@bandit(learner=clf, policy=thompson_sampling())\n",
    "class Agent:\n",
    "    status_quo_arm = Arm(status_quo, reward_func)\n",
    "    new_proposal_arm = Arm(new_proposal, reward_func)\n",
    "\n",
    "\n",
    "agent = Agent()\n"
   ]
  },
  {
   "attachments": {},
   "cell_type": "markdown",
   "metadata": {},
   "source": [
    "Now, let's simulate some online learning. To somewhat approximate the process of capturing data and feeding it to the agent, we'll use the `redirect_stdout` decorator to capture the output of our print calls to a `StringIO` object, then update the agent with the last non-newline character of the object. Let's simulate 5000 observations."
   ]
  },
  {
   "cell_type": "code",
   "execution_count": 5,
   "metadata": {},
   "outputs": [],
   "source": [
    "from contextlib import redirect_stdout\n",
    "from io import StringIO\n",
    "\n",
    "\n",
    "with redirect_stdout(StringIO()) as reward_stream:\n",
    "    for _ in range(5000):\n",
    "        agent.pull()\n",
    "        agent.update(reward_stream.getvalue()[-2])\n"
   ]
  },
  {
   "attachments": {},
   "cell_type": "markdown",
   "metadata": {},
   "source": [
    "Let's see how our agent did. First, we can sample from the posterior distributions of each arm to determine the agent's belief about how rewarding each arm is.\n",
    "\n",
    "We can see that the new proposal arm has been correctly been identified as the better arm, and the posterior distribution is narrower, suggesting that the agent spent more time pulling that arm."
   ]
  },
  {
   "cell_type": "code",
   "execution_count": 6,
   "metadata": {},
   "outputs": [
    {
     "data": {
      "image/png": "[encoded data removed]",
      "text/plain": [
       "<Figure size 640x480 with 1 Axes>"
      ]
     },
     "metadata": {},
     "output_type": "display_data"
    }
   ],
   "source": [
    "import matplotlib.pyplot as plt\n",
    "\n",
    "plt.hist(\n",
    "    agent.status_quo_arm.sample(size=5000),\n",
    "    alpha=0.8,\n",
    "    label=\"status quo arm\",\n",
    "    density=True,\n",
    "    stacked=True,\n",
    "    bins=100\n",
    ")\n",
    "plt.hist(\n",
    "    agent.new_proposal_arm.sample(size=5000),\n",
    "    alpha=0.8,\n",
    "    label=\"new proposal arm\",\n",
    "    density=True,\n",
    "    stacked=True,\n",
    "    bins=100\n",
    ")\n",
    "\n",
    "plt.xlabel(\"Mean Reward\")\n",
    "plt.ylabel(\"Frequency\")\n",
    "\n",
    "plt.legend()\n",
    "\n",
    "plt.show()\n"
   ]
  },
  {
   "attachments": {},
   "cell_type": "markdown",
   "metadata": {},
   "source": [
    "This is a sort of contrived situation - in the experiment described above, we wouldn't actually know the reward of each action immediately - in reality, our agent would have to pull several arms, and then at some later point it would need to be updated. To facilitate this, `bayesianbandits` makes a `delayed_reward` decorator available. Let's redefine our agent using it."
   ]
  },
  {
   "cell_type": "code",
   "execution_count": 7,
   "metadata": {},
   "outputs": [],
   "source": [
    "from bayesianbandits import delayed_reward\n",
    "\n",
    "@delayed_reward\n",
    "@contextfree\n",
    "@bandit(learner=clf, policy=thompson_sampling())\n",
    "class Agent:\n",
    "    status_quo_arm = Arm(status_quo, reward_func)\n",
    "    new_proposal_arm = Arm(new_proposal, reward_func)\n",
    "\n",
    "\n",
    "agent = Agent()"
   ]
  },
  {
   "attachments": {},
   "cell_type": "markdown",
   "metadata": {},
   "source": [
    "`delayed_reward` makes the agent's `pull` and `update` arguments take an additional `unique_id` argument, used to index arm pull events. It is up to the user to define these values, but the agent will internally store which `unique_id` connects to which `arm`, ensuring that we can properly update the arm later.\n",
    "\n",
    "Let's simulate what that might look like. Our online learning experiment now consists of two steps:\n",
    "\n",
    "1. Be presented with n choices to make\n",
    "2. Update the learner with the results of those n choices\n",
    "3. Repeat some number of times\n",
    "\n",
    "Let's say that we're going to send out 100 emails a week, and we'll assume, for the sake of this simulation, that we gather data about each of those 100 emails by the end of the week. We'll repeat this process over 10 weeks."
   ]
  },
  {
   "cell_type": "code",
   "execution_count": 8,
   "metadata": {},
   "outputs": [],
   "source": [
    "for week in range(10):\n",
    "\n",
    "    with redirect_stdout(StringIO()) as reward_stream:\n",
    "\n",
    "        feedback_and_unique_ids = []\n",
    "\n",
    "        # make 100 pulls per week\n",
    "\n",
    "        for email_idx in range(100):\n",
    "            # use week + email_idx as the unique_id\n",
    "            agent.pull(unique_id=f\"{week}_{email_idx}\")\n",
    "\n",
    "            feedback_and_unique_ids.append((reward_stream.getvalue()[-2], f\"{week}_{email_idx}\"))\n",
    "            \n",
    "        # update the agent with the feedback and unique_ids at the end of the week\n",
    "\n",
    "        for feedback, unique_id in feedback_and_unique_ids:\n",
    "            agent.update(feedback, unique_id=unique_id)\n"
   ]
  },
  {
   "attachments": {},
   "cell_type": "markdown",
   "metadata": {},
   "source": [
    "We can see from the posterior distribution of each arm that the agent essentially learned the same information it learned above. "
   ]
  },
  {
   "cell_type": "code",
   "execution_count": 9,
   "metadata": {},
   "outputs": [
    {
     "data": {
      "image/png": "[encoded data removed]",
      "text/plain": [
       "<Figure size 640x480 with 1 Axes>"
      ]
     },
     "metadata": {},
     "output_type": "display_data"
    }
   ],
   "source": [
    "plt.hist(\n",
    "    agent.status_quo_arm.sample(size=5000),\n",
    "    alpha=0.8,\n",
    "    label=\"status quo arm\",\n",
    "    density=True,\n",
    "    stacked=True,\n",
    "    bins=100\n",
    ")\n",
    "plt.hist(\n",
    "    agent.new_proposal_arm.sample(size=5000),\n",
    "    alpha=0.8,\n",
    "    label=\"new proposal arm\",\n",
    "    density=True,\n",
    "    stacked=True,\n",
    "    bins=100\n",
    ")\n",
    "\n",
    "plt.xlabel(\"Mean Reward\")\n",
    "plt.ylabel(\"Frequency\")\n",
    "\n",
    "plt.legend()\n",
    "\n",
    "plt.show()\n"
   ]
  },
  {
   "attachments": {},
   "cell_type": "markdown",
   "metadata": {},
   "source": [
    "Let's add another touch of realism to our above example. We're not actually going to leave our code running all week - we want to run a job on Monday to send all of the emails, and then run a separate job on Sunday to update the agent. There are innumerable ways to do this, but the simplest is to use the `joblib` package, which is utilized by `scikit-learn` to simplify model persistence. Agents created by `bayesianbandits` are also fully-compatible with `joblib`, as long as the original `@bandit`-decorated class has been defined in whatever code is reloading the agent."
   ]
  },
  {
   "cell_type": "code",
   "execution_count": 10,
   "metadata": {},
   "outputs": [],
   "source": [
    "import joblib\n",
    "\n",
    "joblib.dump(agent, \"agent.pkl\")\n",
    "\n",
    "agent = joblib.load(\"agent.pkl\")"
   ]
  },
  {
   "attachments": {},
   "cell_type": "markdown",
   "metadata": {},
   "source": [
    "Finally, let's add one more layer of realism - perhaps we are concerned about memory usage of the `delayed_reward` cache, and instead want to persist it on disk. While the default behavior of `delayed_reward` is to store the cache in-memory, we can provide it with any `dict`-like object "
   ]
  },
  {
   "cell_type": "code",
   "execution_count": 11,
   "metadata": {},
   "outputs": [],
   "source": [
    "import shelve\n",
    "\n",
    "on_disk_cache = shelve.open(\"on_disk_cache\")\n",
    "\n",
    "@delayed_reward(cache=on_disk_cache)\n",
    "@contextfree\n",
    "@bandit(learner=clf, policy=thompson_sampling())\n",
    "class Agent:\n",
    "    status_quo_arm = Arm(status_quo, reward_func)\n",
    "    new_proposal_arm = Arm(new_proposal, reward_func)\n",
    "\n",
    "\n",
    "agent = Agent()"
   ]
  },
  {
   "attachments": {},
   "cell_type": "markdown",
   "metadata": {},
   "source": [
    "Now we can repeat the above experiment, but with the knowledge that the agent's memory usage will be small due to storing its `delayed_reward` cache on disk instead of in-memory. This, of course, has some minor performance penalty due to IO."
   ]
  },
  {
   "cell_type": "code",
   "execution_count": 12,
   "metadata": {},
   "outputs": [],
   "source": [
    "for week in range(10):\n",
    "\n",
    "    with redirect_stdout(StringIO()) as reward_stream:\n",
    "\n",
    "        feedback_and_unique_ids = []\n",
    "\n",
    "        # make 100 pulls per week\n",
    "\n",
    "        for email_idx in range(100):\n",
    "            # use week + email_idx as the unique_id\n",
    "            agent.pull(unique_id=f\"{week}_{email_idx}\")\n",
    "\n",
    "            feedback_and_unique_ids.append((reward_stream.getvalue()[-2], f\"{week}_{email_idx}\"))\n",
    "            \n",
    "        # update the agent with the feedback and unique_ids at the end of the week\n",
    "\n",
    "        for feedback, unique_id in feedback_and_unique_ids:\n",
    "            agent.update(feedback, unique_id=unique_id)"
   ]
  },
  {
   "attachments": {},
   "cell_type": "markdown",
   "metadata": {},
   "source": [
    "Once again, the agent learned that the new policy is better. "
   ]
  },
  {
   "cell_type": "code",
   "execution_count": 13,
   "metadata": {},
   "outputs": [
    {
     "data": {
      "image/png": "[encoded data removed]",
      "text/plain": [
       "<Figure size 640x480 with 1 Axes>"
      ]
     },
     "metadata": {},
     "output_type": "display_data"
    }
   ],
   "source": [
    "plt.hist(\n",
    "    agent.status_quo_arm.sample(size=5000),\n",
    "    alpha=0.8,\n",
    "    label=\"status quo arm\",\n",
    "    density=True,\n",
    "    stacked=True,\n",
    "    bins=100\n",
    ")\n",
    "plt.hist(\n",
    "    agent.new_proposal_arm.sample(size=5000),\n",
    "    alpha=0.8,\n",
    "    label=\"new proposal arm\",\n",
    "    density=True,\n",
    "    stacked=True,\n",
    "    bins=100\n",
    ")\n",
    "\n",
    "plt.xlabel(\"Mean Reward\")\n",
    "plt.ylabel(\"Frequency\")\n",
    "\n",
    "plt.legend()\n",
    "\n",
    "plt.show()"
   ]
  }
 ],
 "metadata": {
  "kernelspec": {
   "display_name": "bayesianbandits",
   "language": "python",
   "name": "python3"
  },
  "language_info": {
   "codemirror_mode": {
    "name": "ipython",
    "version": 3
   },
   "file_extension": ".py",
   "mimetype": "text/x-python",
   "name": "python",
   "nbconvert_exporter": "python",
   "pygments_lexer": "ipython3",
   "version": "3.9.16"
  },
  "orig_nbformat": 4,
  "vscode": {
   "interpreter": {
    "hash": "e3f36ddb09a06456251074df3dec102b3bd93f6018f69cb4fcf09d3aff836ef2"
   }
  }
 },
 "nbformat": 4,
 "nbformat_minor": 2
}
