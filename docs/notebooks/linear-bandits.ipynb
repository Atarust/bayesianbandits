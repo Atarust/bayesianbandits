{
 "cells": [
  {
   "attachments": {},
   "cell_type": "markdown",
   "metadata": {},
   "source": [
    "# A Bayesian Take on Linear Bandits and Disjoint LinUCB\n",
    "\n",
    "Linear bandits are useful for solving problems where the reward is a linear function of the context. In this notebook, we will see how the building blocks provided in `bayesianbandits` can be used to solve a linear bandits problem, specifically by implementing a Bayesian version of the disjoint LinUCB algorithm from [1]. We'll simulate a situation very similar to the one described in the paper, where we have a set of users with some known context, and a set of articles that we want to recommend to them. We can represent what we know about the users as the context to a multi-armed bandit problem, and the articles as the arms. The reward for each arm is the click-through rate (CTR) of that article for that user. We can then use the Bayesian version of LinUCB to recommend articles to users.\n",
    "\n",
    "[1] Lihong Li, Wei Chu, John Langford, and Robert E. Schapire. A contextual-bandit approach to personalized news article recommendation. Proceedings of the 19th international conference on World Wide Web, pages 661–670. ACM, 2010.\n",
    "\n",
    "## What should we recommend on the \"Featured\" section of our website?\n",
    "\n",
    "Imagine the landing page of our website has a \"Featured\" section, where we highlight a single article. We want to recommend the article that will get the most clicks. We can model this as a multi-armed bandit problem, where the context is the user, and the arms are the articles.\n",
    "\n",
    "## Simulating the problem\n",
    "\n",
    "We'll create a `ClickthroughOracle` object that returns the click-through rate (CTR) of an article for a given user. We'll use the `ClickthroughOracle` to simulate a user clicking on an article. We'll also create a `Bandit` subclass that will use the `ClickthroughOracle` to simulate the reward for each arm.\n"
   ]
  },
  {
   "cell_type": "code",
   "execution_count": 1,
   "metadata": {},
   "outputs": [],
   "source": [
    "import numpy as np\n",
    "from scipy.special import expit\n",
    "\n",
    "\n",
    "class ClickthroughOracle:\n",
    "    \n",
    "    def __init__(self):\n",
    "        self.context = None\n",
    "        self.rewards = []\n",
    "        self.optimal_rewards = []\n",
    "\n",
    "        self.article_coefs = article_coefs = np.array(\n",
    "        [\n",
    "            [-1.0, 0.005, 0.2],\n",
    "            [-5.0, 0.0, 0.0],\n",
    "            [0.2, -0.005, 0.0],\n",
    "            [-0.4, 0.0, -2.0],\n",
    "        ]\n",
    "    )\n",
    "\n",
    "    def set_context(self, context):\n",
    "        # the context will consist of a numerical age column,\n",
    "        # a one-hot encoded gender column.\n",
    "        self.context = context\n",
    "\n",
    "    def generate_reward(self, _coef):\n",
    "        reward = np.random.binomial(1, expit(np.dot(self.context, _coef)))\n",
    "        self.rewards.append(reward)\n",
    "        return reward\n",
    "\n",
    "    def best_expected_reward(self):\n",
    "        self.optimal_rewards.append(\n",
    "            np.max(expit(np.dot(self.context, self.article_coefs.T)))\n",
    "        )\n",
    "\n",
    "    def article_1(self):\n",
    "        # article that really appeals to older men\n",
    "        return self.generate_reward(self.article_coefs[0])\n",
    "\n",
    "    def article_2(self):\n",
    "        # article that nobody really likes\n",
    "        return self.generate_reward(self.article_coefs[1])\n",
    "\n",
    "    def article_3(self):\n",
    "        # article that younger people like, but is equally enjoyed by any gender\n",
    "        return self.generate_reward(self.article_coefs[2])\n",
    "\n",
    "    def article_4(self):\n",
    "        # article that women of all ages like\n",
    "        return self.generate_reward(self.article_coefs[3])\n",
    "\n",
    "\n",
    "oracle = ClickthroughOracle()\n"
   ]
  },
  {
   "attachments": {},
   "cell_type": "markdown",
   "metadata": {},
   "source": [
    "We want to use the Bayesian version of LinUCB to recommend articles to users. This is done, in part, by setting the underlying model to be a Bayesian linear regression model. We'll use the `NormalInverseGammaRegressor` class to do this. The default constructor arguments for `NormalInverseGammaRegressor` will give us a prior that is a normal distribution with mean 0 and variance 1, which corresponds to a ridge regression model. \n",
    "\n",
    "Additionally, we'll set our choice policy to be the `upper_confidence_bound` policy, which will choose the arm with the highest upper confidence bound. We'll also set the `alpha` parameter to be 0.84, corresponding to a +1 standard deviation confidence interval."
   ]
  },
  {
   "cell_type": "code",
   "execution_count": 2,
   "metadata": {},
   "outputs": [],
   "source": [
    "from bayesianbandits import NormalInverseGammaRegressor, upper_confidence_bound\n",
    "\n",
    "est = NormalInverseGammaRegressor()\n",
    "policy = upper_confidence_bound(alpha=0.84, samples=100)"
   ]
  },
  {
   "attachments": {},
   "cell_type": "markdown",
   "metadata": {},
   "source": [
    "Next, we'll define our action space and reward function. The action space will be the set of articles, and the reward function will be whether or not the user clicked on the article."
   ]
  },
  {
   "cell_type": "code",
   "execution_count": 3,
   "metadata": {},
   "outputs": [],
   "source": [
    "def article_1():\n",
    "    return oracle.article_1()\n",
    "\n",
    "def article_2():\n",
    "    return oracle.article_2()\n",
    "\n",
    "def article_3():\n",
    "    return oracle.article_3()\n",
    "\n",
    "def article_4():\n",
    "    return oracle.article_4()   \n",
    "\n",
    "def reward(sample):\n",
    "    return sample"
   ]
  },
  {
   "attachments": {},
   "cell_type": "markdown",
   "metadata": {},
   "source": [
    "Next, we'll create a `Bandit` subclass that has the four articles as arms. Linear bandits are inherently contextual, so we'll need to use to `@contextual` decorator. "
   ]
  },
  {
   "cell_type": "code",
   "execution_count": 4,
   "metadata": {},
   "outputs": [],
   "source": [
    "from bayesianbandits import (\n",
    "    Bandit,\n",
    "    Arm,\n",
    "    contextual,\n",
    ")\n",
    "\n",
    "@contextual\n",
    "class Agent(Bandit, learner=est, policy=policy):\n",
    "    article_1 = Arm(article_1, reward)\n",
    "    article_2 = Arm(article_2, reward)\n",
    "    article_3 = Arm(article_3, reward)\n",
    "    article_4 = Arm(article_4, reward)\n",
    "\n",
    "agent = Agent(rng=0)\n"
   ]
  },
  {
   "attachments": {},
   "cell_type": "markdown",
   "metadata": {},
   "source": [
    "Let's run the bandit for 5000 iterations, and see how well it does. We'll plot the cumulative reward over time to visualize how quickly the bandit learns to recommend the best article for each user.\n",
    "\n",
    "Note that this step can be slow, depending on the number of samples being used to estimate the posterior. If you want to speed things up, you can reduce the number of samples used to estimate the posterior by setting the `samples` parameter in the `upper_confidence_bound` function. This highlights the connection between Thompson sampling and the UCB algorithm - both are strategies that bake the uncertainty of the posterior into the point estimate of the reward used to choose the arm. In the limiting case where the number of samples is 1, the UCB algorithm reduces to Thompson sampling."
   ]
  },
  {
   "cell_type": "code",
   "execution_count": 5,
   "metadata": {},
   "outputs": [],
   "source": [
    "for _ in range(5000):\n",
    "\n",
    "    user_gender = np.random.binomial(1, 0.5)\n",
    "    user_age = np.random.randint(18, 65)\n",
    "\n",
    "    context = np.array([1.0, user_age, user_gender])\n",
    "\n",
    "    oracle.set_context(context)\n",
    "    oracle.best_expected_reward()\n",
    "\n",
    "    agent.pull(context)\n",
    "    agent.update(context, oracle.rewards[-1])\n",
    "\n",
    "    "
   ]
  },
  {
   "attachments": {},
   "cell_type": "markdown",
   "metadata": {},
   "source": [
    "We can see that the bandit quickly learns to recommend the best article for each user and captures a vast majority of the optimal expected reward. This demonstrates that LinUCB (and linear bandits in general) are able to learn reward structures that are definitely not normally distributed. This is because we don't actually need to know the distribution of the reward, we only need to know the mean and variance of the reward. \n",
    "\n",
    "In other words, we care about the posterior distribution of the coefficients of the linear model, not the posterior predictive distribution of the reward. With sufficient data, the posterior distribution of the coefficients will always look locally normal (this is known as the Bernstein-von Mises theorem). This is the basis of the Laplace approximation."
   ]
  },
  {
   "cell_type": "code",
   "execution_count": 6,
   "metadata": {},
   "outputs": [
    {
     "data": {
      "text/plain": [
       "<matplotlib.legend.Legend at 0x7fe004c38b50>"
      ]
     },
     "execution_count": 6,
     "metadata": {},
     "output_type": "execute_result"
    },
    {
     "data": {
      "image/png": "[encoded data removed]",
      "text/plain": [
       "<Figure size 640x480 with 1 Axes>"
      ]
     },
     "metadata": {},
     "output_type": "display_data"
    }
   ],
   "source": [
    "import matplotlib.pyplot as plt\n",
    "\n",
    "plt.plot(np.cumsum(oracle.optimal_rewards), label=\"Optimal Expected Reward\")\n",
    "plt.plot(np.cumsum(oracle.rewards), label=\"LinUCB\")\n",
    "\n",
    "plt.legend()"
   ]
  }
 ],
 "metadata": {
  "kernelspec": {
   "display_name": "bayesianbandits",
   "language": "python",
   "name": "python3"
  },
  "language_info": {
   "codemirror_mode": {
    "name": "ipython",
    "version": 3
   },
   "file_extension": ".py",
   "mimetype": "text/x-python",
   "name": "python",
   "nbconvert_exporter": "python",
   "pygments_lexer": "ipython3",
   "version": "3.9.16"
  },
  "orig_nbformat": 4,
  "vscode": {
   "interpreter": {
    "hash": "e3f36ddb09a06456251074df3dec102b3bd93f6018f69cb4fcf09d3aff836ef2"
   }
  }
 },
 "nbformat": 4,
 "nbformat_minor": 2
}
